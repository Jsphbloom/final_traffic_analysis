{
 "cells": [
  {
   "cell_type": "code",
   "execution_count": null,
   "id": "91775aee",
   "metadata": {},
   "outputs": [
    {
     "name": "stdout",
     "output_type": "stream",
     "text": [
      "Reading the large file: /Users/Joe/Downloads/archive/US_Accidents_March23.csv...\n",
      "File read successfully. Original size: 7728394 rows, 46 columns\n",
      "Sampling 10% of the data...\n",
      "Sampling complete. New size: 772839 rows, 46 columns\n",
      "Exporting sampled data to: /Users/Joe/Downloads/archive/US_Accidents_March23_sampled_10_percent.csv...\n",
      "\n",
      "Process complete! Your new, smaller file is ready.\n"
     ]
    }
   ],
   "source": [
    "import pandas as pd\n",
    "\n",
    "# Define the file paths for clarity\n",
    "input_csv_path = 'your csv here'\n",
    "output_csv_path = 'your new csv here'\n",
    "\n",
    "try:\n",
    "    # 1. Read the large CSV file into a pandas DataFrame\n",
    "    print(f\"Reading the large file: {input_csv_path}...\")\n",
    "    df = pd.read_csv(input_csv_path)\n",
    "    print(\"File read successfully. Original size: {} rows, {} columns\".format(df.shape[0], df.shape[1]))\n",
    "\n",
    "    # 2. Sample 10% of the data\n",
    "    # The `frac` parameter specifies the fraction of rows to return.\n",
    "    # `random_state` is used for reproducibility, so you get the same sample every time.\n",
    "    print(\"Sampling 10% of the data...\")\n",
    "    df_sampled = df.sample(frac=0.1, random_state=42)\n",
    "    print(\"Sampling complete. New size: {} rows, {} columns\".format(df_sampled.shape[0], df_sampled.shape[1]))\n",
    "\n",
    "    # 3. Export the smaller, sampled DataFrame to a new CSV file\n",
    "    # We use `index=False` to prevent pandas from writing the DataFrame index as a new column in the CSV.\n",
    "    print(f\"Exporting sampled data to: {output_csv_path}...\")\n",
    "    df_sampled.to_csv(output_csv_path, index=False)\n",
    "\n",
    "    print(\"\\nProcess complete! Your new, smaller file is ready.\")\n",
    "\n",
    "except FileNotFoundError:\n",
    "    print(f\"Error: The file was not found at {input_csv_path}\")\n",
    "except Exception as e:\n",
    "    print(f\"An error occurred: {e}\")\n",
    "\n"
   ]
  }
 ],
 "metadata": {
  "kernelspec": {
   "display_name": "Python 3",
   "language": "python",
   "name": "python3"
  },
  "language_info": {
   "codemirror_mode": {
    "name": "ipython",
    "version": 3
   },
   "file_extension": ".py",
   "mimetype": "text/x-python",
   "name": "python",
   "nbconvert_exporter": "python",
   "pygments_lexer": "ipython3",
   "version": "3.11.9"
  }
 },
 "nbformat": 4,
 "nbformat_minor": 5
}
